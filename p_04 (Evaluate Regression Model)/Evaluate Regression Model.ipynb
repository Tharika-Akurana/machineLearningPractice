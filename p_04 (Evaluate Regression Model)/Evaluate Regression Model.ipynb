{
 "cells": [
  {
   "cell_type": "code",
   "execution_count": 1,
   "id": "88767936-60c2-4acd-8d01-dc096017a54a",
   "metadata": {},
   "outputs": [],
   "source": [
    "import numpy as np\n",
    "import pandas as pd"
   ]
  },
  {
   "cell_type": "code",
   "execution_count": 2,
   "id": "b7c9d06e-acbc-481f-a42b-12e54ade0cbd",
   "metadata": {},
   "outputs": [],
   "source": [
    "df = pd.DataFrame({\n",
    "    'hours' : [8, 11, 9, 5, 7.5, 9.5, 10, 7, 9, 9.5, 8, 10.5, 9, 6.5, 9],\n",
    "    'score' : [56, 70, 51, 24, 30, 66, 48, 36, 42, 61, 39, 87, 73, 48, 46]\n",
    "})"
   ]
  },
  {
   "cell_type": "code",
   "execution_count": 3,
   "id": "69f3ceda-cd55-483b-9d7f-1384f31c0973",
   "metadata": {},
   "outputs": [
    {
     "data": {
      "text/html": [
       "<div>\n",
       "<style scoped>\n",
       "    .dataframe tbody tr th:only-of-type {\n",
       "        vertical-align: middle;\n",
       "    }\n",
       "\n",
       "    .dataframe tbody tr th {\n",
       "        vertical-align: top;\n",
       "    }\n",
       "\n",
       "    .dataframe thead th {\n",
       "        text-align: right;\n",
       "    }\n",
       "</style>\n",
       "<table border=\"1\" class=\"dataframe\">\n",
       "  <thead>\n",
       "    <tr style=\"text-align: right;\">\n",
       "      <th></th>\n",
       "      <th>hours</th>\n",
       "      <th>score</th>\n",
       "    </tr>\n",
       "  </thead>\n",
       "  <tbody>\n",
       "    <tr>\n",
       "      <th>0</th>\n",
       "      <td>8.0</td>\n",
       "      <td>56</td>\n",
       "    </tr>\n",
       "    <tr>\n",
       "      <th>1</th>\n",
       "      <td>11.0</td>\n",
       "      <td>70</td>\n",
       "    </tr>\n",
       "    <tr>\n",
       "      <th>2</th>\n",
       "      <td>9.0</td>\n",
       "      <td>51</td>\n",
       "    </tr>\n",
       "    <tr>\n",
       "      <th>3</th>\n",
       "      <td>5.0</td>\n",
       "      <td>24</td>\n",
       "    </tr>\n",
       "    <tr>\n",
       "      <th>4</th>\n",
       "      <td>7.5</td>\n",
       "      <td>30</td>\n",
       "    </tr>\n",
       "  </tbody>\n",
       "</table>\n",
       "</div>"
      ],
      "text/plain": [
       "   hours  score\n",
       "0    8.0     56\n",
       "1   11.0     70\n",
       "2    9.0     51\n",
       "3    5.0     24\n",
       "4    7.5     30"
      ]
     },
     "execution_count": 3,
     "metadata": {},
     "output_type": "execute_result"
    }
   ],
   "source": [
    "df.head() #these shows only 1st 5 values in the table"
   ]
  },
  {
   "cell_type": "code",
   "execution_count": 4,
   "id": "074cb230-b745-4b5d-91f6-6a1da3adef9f",
   "metadata": {},
   "outputs": [],
   "source": [
    "y = np.array(df.score.values)"
   ]
  },
  {
   "cell_type": "code",
   "execution_count": 6,
   "id": "322a1360-4e7e-4db9-a0ef-0709b192853d",
   "metadata": {},
   "outputs": [
    {
     "data": {
      "text/plain": [
       "array([56, 70, 51, 24, 30, 66, 48, 36, 42, 61, 39, 87, 73, 48, 46])"
      ]
     },
     "execution_count": 6,
     "metadata": {},
     "output_type": "execute_result"
    }
   ],
   "source": [
    "y"
   ]
  },
  {
   "cell_type": "code",
   "execution_count": 5,
   "id": "7d773dae-f94b-4ce8-8bec-07ffe706e163",
   "metadata": {},
   "outputs": [],
   "source": [
    "y_pred = 8 * df.hours.values - 15"
   ]
  },
  {
   "cell_type": "code",
   "execution_count": 7,
   "id": "406b95b5-2d25-4693-834a-e719fca21ee4",
   "metadata": {},
   "outputs": [
    {
     "data": {
      "text/plain": [
       "array([49., 73., 57., 25., 45., 61., 65., 41., 57., 61., 49., 69., 57.,\n",
       "       37., 57.])"
      ]
     },
     "execution_count": 7,
     "metadata": {},
     "output_type": "execute_result"
    }
   ],
   "source": [
    "y_pred"
   ]
  },
  {
   "cell_type": "code",
   "execution_count": 8,
   "id": "9436a669-d23d-4899-8d53-6aa1b84ac22a",
   "metadata": {},
   "outputs": [
    {
     "name": "stdout",
     "output_type": "stream",
     "text": [
      "Mean Absolute Error: 9.333333333333334\n"
     ]
    }
   ],
   "source": [
    "# Mean Absolute Error (MAE)\n",
    "from sklearn.metrics import mean_absolute_error\n",
    "mae = mean_absolute_error(y,y_pred)\n",
    "print(f\"Mean Absolute Error: {mae}\")"
   ]
  },
  {
   "cell_type": "code",
   "execution_count": 9,
   "id": "b83f3015-094a-4cbe-a296-f31941dc33a7",
   "metadata": {},
   "outputs": [
    {
     "name": "stdout",
     "output_type": "stream",
     "text": [
      "Root Mean Squared Error: 10.972693379476162\n"
     ]
    }
   ],
   "source": [
    "# Root Mean Squared Error (RMSE)\n",
    "from sklearn.metrics import root_mean_squared_error\n",
    "rmse = root_mean_squared_error(y,y_pred)\n",
    "print(f\"Root Mean Squared Error: {rmse}\")"
   ]
  },
  {
   "cell_type": "code",
   "execution_count": 10,
   "id": "f0f340d5-fd45-430d-82ec-90611b5fb5c7",
   "metadata": {},
   "outputs": [
    {
     "name": "stdout",
     "output_type": "stream",
     "text": [
      "R2 Score: 0.5642312518096708\n"
     ]
    }
   ],
   "source": [
    "# R Squared\n",
    "from sklearn.metrics import r2_score\n",
    "r2 = r2_score(y,y_pred)\n",
    "print(f\"R2 Score: {r2}\")"
   ]
  },
  {
   "cell_type": "code",
   "execution_count": null,
   "id": "5a1b80e4-afcf-4bbc-9c31-202431aeacbe",
   "metadata": {},
   "outputs": [],
   "source": []
  }
 ],
 "metadata": {
  "kernelspec": {
   "display_name": "Python 3 (ipykernel)",
   "language": "python",
   "name": "python3"
  },
  "language_info": {
   "codemirror_mode": {
    "name": "ipython",
    "version": 3
   },
   "file_extension": ".py",
   "mimetype": "text/x-python",
   "name": "python",
   "nbconvert_exporter": "python",
   "pygments_lexer": "ipython3",
   "version": "3.12.3"
  }
 },
 "nbformat": 4,
 "nbformat_minor": 5
}
